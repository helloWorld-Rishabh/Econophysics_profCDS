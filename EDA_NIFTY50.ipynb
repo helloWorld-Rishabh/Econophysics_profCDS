{
 "cells": [
  {
   "cell_type": "code",
   "execution_count": 2,
   "id": "2acd6571",
   "metadata": {},
   "outputs": [],
   "source": [
    "import pandas as pd\n",
    "import numpy as np\n",
    "import matplotlib.pyplot as plt\n",
    "import seaborn as sns\n",
    "%matplotlib inline"
   ]
  },
  {
   "cell_type": "code",
   "execution_count": 3,
   "id": "36f0263f",
   "metadata": {},
   "outputs": [],
   "source": [
    "df=pd.read_csv('NIFTY 100_minute.csv')"
   ]
  },
  {
   "cell_type": "code",
   "execution_count": 5,
   "id": "77d370cd",
   "metadata": {},
   "outputs": [
    {
     "data": {
      "text/html": [
       "<div>\n",
       "<style scoped>\n",
       "    .dataframe tbody tr th:only-of-type {\n",
       "        vertical-align: middle;\n",
       "    }\n",
       "\n",
       "    .dataframe tbody tr th {\n",
       "        vertical-align: top;\n",
       "    }\n",
       "\n",
       "    .dataframe thead th {\n",
       "        text-align: right;\n",
       "    }\n",
       "</style>\n",
       "<table border=\"1\" class=\"dataframe\">\n",
       "  <thead>\n",
       "    <tr style=\"text-align: right;\">\n",
       "      <th></th>\n",
       "      <th>date</th>\n",
       "      <th>open</th>\n",
       "      <th>high</th>\n",
       "      <th>low</th>\n",
       "      <th>close</th>\n",
       "      <th>volume</th>\n",
       "    </tr>\n",
       "  </thead>\n",
       "  <tbody>\n",
       "    <tr>\n",
       "      <th>0</th>\n",
       "      <td>2015-01-09 09:15:00</td>\n",
       "      <td>8300.60</td>\n",
       "      <td>8309.75</td>\n",
       "      <td>8300.60</td>\n",
       "      <td>8308.35</td>\n",
       "      <td>0</td>\n",
       "    </tr>\n",
       "    <tr>\n",
       "      <th>1</th>\n",
       "      <td>2015-01-09 09:16:00</td>\n",
       "      <td>8308.35</td>\n",
       "      <td>8308.65</td>\n",
       "      <td>8304.05</td>\n",
       "      <td>8304.20</td>\n",
       "      <td>0</td>\n",
       "    </tr>\n",
       "    <tr>\n",
       "      <th>2</th>\n",
       "      <td>2015-01-09 09:17:00</td>\n",
       "      <td>8304.20</td>\n",
       "      <td>8308.20</td>\n",
       "      <td>8304.00</td>\n",
       "      <td>8308.20</td>\n",
       "      <td>0</td>\n",
       "    </tr>\n",
       "    <tr>\n",
       "      <th>3</th>\n",
       "      <td>2015-01-09 09:18:00</td>\n",
       "      <td>8308.20</td>\n",
       "      <td>8315.30</td>\n",
       "      <td>8308.20</td>\n",
       "      <td>8315.30</td>\n",
       "      <td>0</td>\n",
       "    </tr>\n",
       "    <tr>\n",
       "      <th>4</th>\n",
       "      <td>2015-01-09 09:19:00</td>\n",
       "      <td>8315.30</td>\n",
       "      <td>8316.10</td>\n",
       "      <td>8314.85</td>\n",
       "      <td>8316.10</td>\n",
       "      <td>0</td>\n",
       "    </tr>\n",
       "  </tbody>\n",
       "</table>\n",
       "</div>"
      ],
      "text/plain": [
       "                  date     open     high      low    close  volume\n",
       "0  2015-01-09 09:15:00  8300.60  8309.75  8300.60  8308.35       0\n",
       "1  2015-01-09 09:16:00  8308.35  8308.65  8304.05  8304.20       0\n",
       "2  2015-01-09 09:17:00  8304.20  8308.20  8304.00  8308.20       0\n",
       "3  2015-01-09 09:18:00  8308.20  8315.30  8308.20  8315.30       0\n",
       "4  2015-01-09 09:19:00  8315.30  8316.10  8314.85  8316.10       0"
      ]
     },
     "execution_count": 5,
     "metadata": {},
     "output_type": "execute_result"
    }
   ],
   "source": [
    "df.head()\n"
   ]
  },
  {
   "cell_type": "code",
   "execution_count": 6,
   "id": "b47ab2ba",
   "metadata": {},
   "outputs": [
    {
     "data": {
      "text/html": [
       "<div>\n",
       "<style scoped>\n",
       "    .dataframe tbody tr th:only-of-type {\n",
       "        vertical-align: middle;\n",
       "    }\n",
       "\n",
       "    .dataframe tbody tr th {\n",
       "        vertical-align: top;\n",
       "    }\n",
       "\n",
       "    .dataframe thead th {\n",
       "        text-align: right;\n",
       "    }\n",
       "</style>\n",
       "<table border=\"1\" class=\"dataframe\">\n",
       "  <thead>\n",
       "    <tr style=\"text-align: right;\">\n",
       "      <th></th>\n",
       "      <th>date</th>\n",
       "      <th>open</th>\n",
       "      <th>high</th>\n",
       "      <th>low</th>\n",
       "      <th>close</th>\n",
       "      <th>volume</th>\n",
       "    </tr>\n",
       "  </thead>\n",
       "  <tbody>\n",
       "    <tr>\n",
       "      <th>974892</th>\n",
       "      <td>2025-07-25 15:25:00</td>\n",
       "      <td>25443.5</td>\n",
       "      <td>25444.65</td>\n",
       "      <td>25440.95</td>\n",
       "      <td>25443.0</td>\n",
       "      <td>0</td>\n",
       "    </tr>\n",
       "    <tr>\n",
       "      <th>974893</th>\n",
       "      <td>2025-07-25 15:26:00</td>\n",
       "      <td>25443.0</td>\n",
       "      <td>25445.35</td>\n",
       "      <td>25437.25</td>\n",
       "      <td>25439.0</td>\n",
       "      <td>0</td>\n",
       "    </tr>\n",
       "    <tr>\n",
       "      <th>974894</th>\n",
       "      <td>2025-07-25 15:27:00</td>\n",
       "      <td>25439.0</td>\n",
       "      <td>25439.00</td>\n",
       "      <td>25431.25</td>\n",
       "      <td>25434.0</td>\n",
       "      <td>0</td>\n",
       "    </tr>\n",
       "    <tr>\n",
       "      <th>974895</th>\n",
       "      <td>2025-07-25 15:28:00</td>\n",
       "      <td>25434.0</td>\n",
       "      <td>25436.65</td>\n",
       "      <td>25427.90</td>\n",
       "      <td>25428.8</td>\n",
       "      <td>0</td>\n",
       "    </tr>\n",
       "    <tr>\n",
       "      <th>974896</th>\n",
       "      <td>2025-07-25 15:29:00</td>\n",
       "      <td>25428.8</td>\n",
       "      <td>25439.00</td>\n",
       "      <td>25427.25</td>\n",
       "      <td>25431.7</td>\n",
       "      <td>0</td>\n",
       "    </tr>\n",
       "  </tbody>\n",
       "</table>\n",
       "</div>"
      ],
      "text/plain": [
       "                       date     open      high       low    close  volume\n",
       "974892  2025-07-25 15:25:00  25443.5  25444.65  25440.95  25443.0       0\n",
       "974893  2025-07-25 15:26:00  25443.0  25445.35  25437.25  25439.0       0\n",
       "974894  2025-07-25 15:27:00  25439.0  25439.00  25431.25  25434.0       0\n",
       "974895  2025-07-25 15:28:00  25434.0  25436.65  25427.90  25428.8       0\n",
       "974896  2025-07-25 15:29:00  25428.8  25439.00  25427.25  25431.7       0"
      ]
     },
     "execution_count": 6,
     "metadata": {},
     "output_type": "execute_result"
    }
   ],
   "source": [
    "df.tail()\n"
   ]
  },
  {
   "cell_type": "code",
   "execution_count": 4,
   "id": "6f20735f",
   "metadata": {},
   "outputs": [],
   "source": [
    "df['date'] = pd.to_datetime(df['date'])"
   ]
  },
  {
   "cell_type": "code",
   "execution_count": 11,
   "id": "3f7978e5",
   "metadata": {},
   "outputs": [
    {
     "data": {
      "image/png": "[encoded data removed]",
      "text/plain": [
       "<Figure size 1200x600 with 1 Axes>"
      ]
     },
     "metadata": {},
     "output_type": "display_data"
    }
   ],
   "source": [
    "plt.figure(figsize=(12, 6))\n",
    "plt.plot(df['date'], df['high'])\n",
    "plt.xlim(pd.to_datetime('2015-01-01'), pd.to_datetime('2020-12-31'))\n",
    "plt.xlabel('Date')\n",
    "plt.ylabel('High Price')\n",
    "plt.title('High Price Over Time')\n",
    "plt.xticks(rotation=45)  # Rotate date labels for better readability\n",
    "plt.tight_layout()\n",
    "plt.show()"
   ]
  },
  {
   "cell_type": "code",
   "execution_count": 6,
   "id": "06cea1df",
   "metadata": {},
   "outputs": [
    {
     "data": {
      "text/plain": [
       "date      0\n",
       "open      0\n",
       "high      0\n",
       "low       0\n",
       "close     0\n",
       "volume    0\n",
       "dtype: int64"
      ]
     },
     "execution_count": 6,
     "metadata": {},
     "output_type": "execute_result"
    }
   ],
   "source": [
    "# Check for missing values\n",
    "df.isnull().sum()\n"
   ]
  },
  {
   "cell_type": "code",
   "execution_count": 7,
   "id": "9a1ab133",
   "metadata": {},
   "outputs": [
    {
     "data": {
      "text/plain": [
       "Index(['date', 'open', 'high', 'low', 'close', 'volume'], dtype='object')"
      ]
     },
     "execution_count": 7,
     "metadata": {},
     "output_type": "execute_result"
    }
   ],
   "source": [
    "df.columns\n"
   ]
  }
 ],
 "metadata": {
  "kernelspec": {
   "display_name": "fin",
   "language": "python",
   "name": "python3"
  },
  "language_info": {
   "codemirror_mode": {
    "name": "ipython",
    "version": 3
   },
   "file_extension": ".py",
   "mimetype": "text/x-python",
   "name": "python",
   "nbconvert_exporter": "python",
   "pygments_lexer": "ipython3",
   "version": "3.11.13"
  }
 },
 "nbformat": 4,
 "nbformat_minor": 5
}
